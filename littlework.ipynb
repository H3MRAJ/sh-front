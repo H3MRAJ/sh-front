{
 "cells": [
  {
   "cell_type": "code",
   "execution_count": 11,
   "metadata": {},
   "outputs": [],
   "source": [
    "def gcd(p,q):\n",
    "# Create the gcd of two positive integers.\n",
    "    while q != 0:\n",
    "        p, q = q, p%q\n",
    "    return p\n",
    "def is_coprime(x, y):\n",
    "    return gcd(x, y) == 1"
   ]
  },
  {
   "cell_type": "code",
   "execution_count": 16,
   "metadata": {},
   "outputs": [
    {
     "name": "stdout",
     "output_type": "stream",
     "text": [
      "[2, 5]\n"
     ]
    }
   ],
   "source": [
    "n= 6\n",
    "agesLen=n-1\n",
    "ages= [2,5,3,8,7]\n",
    "answer=[]\n",
    "#firstAge=ages[0]\n",
    "for i in range(agesLen):\n",
    "    f=ages[i]\n",
    "    if i<agesLen-1:\n",
    "        if f>ages[i+1] and is_coprime(f,ages[i+1]):\n",
    "            answer.append(i+1)\n",
    "            answer.append(f)\n",
    "            print(answer)\n",
    "            break\n",
    "            # found the bed number i+1 and the age of the person in the bed\n",
    "    #ages.pop(0)\n",
    "if len(answer)==0:\n",
    "    answer.append(1)\n",
    "    answer.append(ages[0])\n",
    "    print(answer)"
   ]
  },
  {
   "cell_type": "code",
   "execution_count": null,
   "metadata": {},
   "outputs": [],
   "source": [
    "# find anagrams:"
   ]
  },
  {
   "cell_type": "code",
   "execution_count": null,
   "metadata": {},
   "outputs": [],
   "source": [
    "testCases=2\n",
    "for i in range(testCases):\n",
    "\n",
    "    "
   ]
  }
 ],
 "metadata": {
  "interpreter": {
   "hash": "80edc5be0efe053e6d787b10b55f4253937bb509383e14a0b6881c8c47eecdf2"
  },
  "kernelspec": {
   "display_name": "Python 3.8.5 64-bit ('base': conda)",
   "language": "python",
   "name": "python3"
  },
  "language_info": {
   "codemirror_mode": {
    "name": "ipython",
    "version": 3
   },
   "file_extension": ".py",
   "mimetype": "text/x-python",
   "name": "python",
   "nbconvert_exporter": "python",
   "pygments_lexer": "ipython3",
   "version": "3.8.5"
  },
  "orig_nbformat": 4
 },
 "nbformat": 4,
 "nbformat_minor": 2
}
